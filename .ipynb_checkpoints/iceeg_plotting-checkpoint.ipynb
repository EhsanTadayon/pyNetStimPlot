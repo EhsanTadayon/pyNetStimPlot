{
 "cells": [
  {
   "cell_type": "code",
   "execution_count": 4,
   "id": "ccbe8d8a-b5f9-4b12-9014-e319ad81f73a",
   "metadata": {},
   "outputs": [],
   "source": [
    "from pynetstim.coordinates import FreesurferCoords\n",
    "from pynetstim.plotting import plotting_points \n",
    "from mayavi import mlab\n",
    "import pandas as pd\n",
    "import numpy as np\n",
    "import matplotlib.pyplot as plt\n",
    "import seaborn as sns\n",
    "from skimage import measure\n",
    "from scipy.io import loadmat\n",
    "import nibabel as nib\n",
    "import os"
   ]
  },
  {
   "cell_type": "code",
   "execution_count": 2,
   "id": "986f0a6c-e8d5-41ca-bfc8-3020dfecc6bd",
   "metadata": {},
   "outputs": [],
   "source": [
    "def create_surf_from_voi(voi_path, subject, subjects_dir, out_path, **kwargs):\n",
    "    \n",
    "    voi_data = nib.load(voi_path).get_fdata()\n",
    "    verts, faces, norm, val = measure.marching_cubes(voi_data,**kwargs)\n",
    "\n",
    "    fscoords = FreesurferCoords(verts, subject, subjects_dir, working_dir='.')\n",
    "    nib.freesurfer.io.write_geometry(out_path, fscoords.coordinates['ras_coord'], faces)\n",
    "\n",
    "\n"
   ]
  },
  {
   "cell_type": "code",
   "execution_count": 6,
   "id": "366d8de0-f244-49d7-96ba-a1ae4848e0da",
   "metadata": {},
   "outputs": [
    {
     "data": {
      "text/html": [
       "<div>\n",
       "<style scoped>\n",
       "    .dataframe tbody tr th:only-of-type {\n",
       "        vertical-align: middle;\n",
       "    }\n",
       "\n",
       "    .dataframe tbody tr th {\n",
       "        vertical-align: top;\n",
       "    }\n",
       "\n",
       "    .dataframe thead th {\n",
       "        text-align: right;\n",
       "    }\n",
       "</style>\n",
       "<table border=\"1\" class=\"dataframe\">\n",
       "  <thead>\n",
       "    <tr style=\"text-align: right;\">\n",
       "      <th></th>\n",
       "      <th>name</th>\n",
       "      <th>x</th>\n",
       "      <th>y</th>\n",
       "      <th>z</th>\n",
       "    </tr>\n",
       "  </thead>\n",
       "  <tbody>\n",
       "    <tr>\n",
       "      <th>0</th>\n",
       "      <td>AST1</td>\n",
       "      <td>-17.871750</td>\n",
       "      <td>18.889011</td>\n",
       "      <td>-33.093679</td>\n",
       "    </tr>\n",
       "    <tr>\n",
       "      <th>1</th>\n",
       "      <td>AST2</td>\n",
       "      <td>-25.063797</td>\n",
       "      <td>13.877090</td>\n",
       "      <td>-38.314198</td>\n",
       "    </tr>\n",
       "    <tr>\n",
       "      <th>2</th>\n",
       "      <td>AST3</td>\n",
       "      <td>-35.244767</td>\n",
       "      <td>11.303426</td>\n",
       "      <td>-36.611991</td>\n",
       "    </tr>\n",
       "    <tr>\n",
       "      <th>3</th>\n",
       "      <td>AST4</td>\n",
       "      <td>-44.541205</td>\n",
       "      <td>10.750185</td>\n",
       "      <td>-33.651610</td>\n",
       "    </tr>\n",
       "    <tr>\n",
       "      <th>4</th>\n",
       "      <td>AST5</td>\n",
       "      <td>-52.355438</td>\n",
       "      <td>10.785233</td>\n",
       "      <td>-27.187220</td>\n",
       "    </tr>\n",
       "  </tbody>\n",
       "</table>\n",
       "</div>"
      ],
      "text/plain": [
       "   name          x          y          z\n",
       "0  AST1 -17.871750  18.889011 -33.093679\n",
       "1  AST2 -25.063797  13.877090 -38.314198\n",
       "2  AST3 -35.244767  11.303426 -36.611991\n",
       "3  AST4 -44.541205  10.750185 -33.651610\n",
       "4  AST5 -52.355438  10.785233 -27.187220"
      ]
     },
     "execution_count": 6,
     "metadata": {},
     "output_type": "execute_result"
    }
   ],
   "source": [
    "subject = 'freesurfer'\n",
    "subjects_dir='/Users/ehsantadayon/Library/CloudStorage/Box-Box/ECLUB/SMV'\n",
    "working_dir='.'\n",
    "\n",
    "#coords \n",
    "coords_df = pd.read_csv(os.path.join(subjects_dir,'iceeg','clinical_elecs_all.txt'))\n",
    "coords_df.head()"
   ]
  },
  {
   "cell_type": "code",
   "execution_count": 10,
   "id": "c3611fa9-4da4-4435-8235-b79dcc5f2dc8",
   "metadata": {},
   "outputs": [],
   "source": [
    "coords_xyz = coords_df[['x','y','z']].to_numpy()\n",
    "fscoords = FreesurferCoords(coords_xyz, subject, subjects_dir, working_dir='.')\n",
    "fscoords.add_trait('name',coords_df.name.to_list())"
   ]
  },
  {
   "cell_type": "code",
   "execution_count": 13,
   "id": "e323c85d-b06d-49e7-b01d-f7a2e6d56bed",
   "metadata": {},
   "outputs": [],
   "source": [
    "### surfs\n",
    "### create lesion\n",
    "lesion_surf = os.path.join(subjects_dir,'images','lesion_surf.nii.gz')\n",
    "create_surf_from_voi(os.path.join(subjects_dir,'images','lesion.nii.gz'),subject,subjects_dir, lesion_surf)"
   ]
  },
  {
   "cell_type": "code",
   "execution_count": null,
   "id": "c948667d-7165-45d3-9059-79ecd90fcadf",
   "metadata": {},
   "outputs": [],
   "source": []
  }
 ],
 "metadata": {
  "kernelspec": {
   "display_name": "Python 3 (ipykernel)",
   "language": "python",
   "name": "python3"
  },
  "language_info": {
   "codemirror_mode": {
    "name": "ipython",
    "version": 3
   },
   "file_extension": ".py",
   "mimetype": "text/x-python",
   "name": "python",
   "nbconvert_exporter": "python",
   "pygments_lexer": "ipython3",
   "version": "3.12.3"
  }
 },
 "nbformat": 4,
 "nbformat_minor": 5
}
